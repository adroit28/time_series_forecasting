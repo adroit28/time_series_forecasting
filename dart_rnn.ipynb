{
 "cells": [
  {
   "cell_type": "code",
   "execution_count": 2,
   "id": "a75c44fc",
   "metadata": {},
   "outputs": [
    {
     "name": "stderr",
     "output_type": "stream",
     "text": [
      "2022-05-24 19:54:58 prophet.plot ERROR: Importing plotly failed. Interactive plots will not work.\n",
      "/Users/s1b0ert/opt/anaconda3/lib/python3.8/site-packages/dask/dataframe/utils.py:369: FutureWarning: pandas.Int64Index is deprecated and will be removed from pandas in a future version. Use pandas.Index with the appropriate dtype instead.\n",
      "  _numeric_index_types = (pd.Int64Index, pd.Float64Index, pd.UInt64Index)\n",
      "/Users/s1b0ert/opt/anaconda3/lib/python3.8/site-packages/dask/dataframe/utils.py:369: FutureWarning: pandas.Float64Index is deprecated and will be removed from pandas in a future version. Use pandas.Index with the appropriate dtype instead.\n",
      "  _numeric_index_types = (pd.Int64Index, pd.Float64Index, pd.UInt64Index)\n",
      "/Users/s1b0ert/opt/anaconda3/lib/python3.8/site-packages/dask/dataframe/utils.py:369: FutureWarning: pandas.UInt64Index is deprecated and will be removed from pandas in a future version. Use pandas.Index with the appropriate dtype instead.\n",
      "  _numeric_index_types = (pd.Int64Index, pd.Float64Index, pd.UInt64Index)\n"
     ]
    }
   ],
   "source": [
    "\"\"\"\n",
    "Importing Libraries\n",
    "\"\"\"\n",
    "\n",
    "%matplotlib inline\n",
    "import matplotlib.pyplot as plt\n",
    "\n",
    "import numpy as np\n",
    "import pandas as pd\n",
    "\n",
    "import torch.optim as optim\n",
    "\n",
    "from darts.dataprocessing.transformers import Scaler\n",
    "from darts.models import RNNModel, Theta\n",
    "from darts.metrics import mape, rmse, r2_score\n",
    "from darts.utils.statistics import check_seasonality, plot_acf\n",
    "from darts.utils.timeseries_generation import datetime_attribute_timeseries\n",
    "\n",
    "from darts.datasets import SunspotsDataset, AirPassengersDataset\n",
    "\n",
    "import sys\n",
    "import time\n",
    "import warnings\n",
    "warnings.filterwarnings(\"ignore\")\n",
    "import logging\n",
    "logging.disable(logging.CRITICAL)"
   ]
  },
  {
   "cell_type": "code",
   "execution_count": 37,
   "id": "8a460f87",
   "metadata": {},
   "outputs": [],
   "source": [
    "\"\"\"\n",
    "Configuration\n",
    "\"\"\"\n",
    "\n",
    "# forecast periods\n",
    "FC_N = 36               \n",
    "FC_STRIDE = 10\n",
    "# period at which to split training and validation dataset\n",
    "FC_START = \"19590101\"   \n",
    "EPOCH = 10   "
   ]
  },
  {
   "cell_type": "code",
   "execution_count": 55,
   "id": "055ac1d8",
   "metadata": {},
   "outputs": [
    {
     "name": "stdout",
     "output_type": "stream",
     "text": [
      "component   #Passengers\n",
      "Month                  \n",
      "1949-01-01        112.0\n",
      "1949-02-01        118.0\n",
      "1949-03-01        132.0\n",
      "1949-04-01        129.0\n",
      "1949-05-01        121.0\n",
      "(144, 1)\n"
     ]
    }
   ],
   "source": [
    "\n",
    "\"\"\"\n",
    "Data\n",
    "\"\"\"\n",
    "\n",
    "ts = AirPassengersDataset().load()\n",
    "\n",
    "series = ts  \n",
    "df = ts.pd_dataframe()\n",
    "print(df.head())\n",
    "print(df.shape)"
   ]
  },
  {
   "cell_type": "code",
   "execution_count": 49,
   "id": "e90c2ab6",
   "metadata": {},
   "outputs": [
    {
     "name": "stdout",
     "output_type": "stream",
     "text": [
      "component  #Passengers\n",
      "count       144.000000\n",
      "mean        280.298611\n",
      "std         119.966317\n",
      "min         104.000000\n",
      "25%         180.000000\n",
      "50%         265.500000\n",
      "75%         360.500000\n",
      "max         622.000000\n"
     ]
    }
   ],
   "source": [
    "print(df.describe())"
   ]
  },
  {
   "cell_type": "code",
   "execution_count": 56,
   "id": "78f52587",
   "metadata": {},
   "outputs": [
    {
     "data": {
      "text/html": [
       "<div>\n",
       "<style scoped>\n",
       "    .dataframe tbody tr th:only-of-type {\n",
       "        vertical-align: middle;\n",
       "    }\n",
       "\n",
       "    .dataframe tbody tr th {\n",
       "        vertical-align: top;\n",
       "    }\n",
       "\n",
       "    .dataframe thead th {\n",
       "        text-align: right;\n",
       "    }\n",
       "</style>\n",
       "<table border=\"1\" class=\"dataframe\">\n",
       "  <thead>\n",
       "    <tr style=\"text-align: right;\">\n",
       "      <th>component</th>\n",
       "      <th>Month</th>\n",
       "      <th>#Passengers</th>\n",
       "    </tr>\n",
       "  </thead>\n",
       "  <tbody>\n",
       "    <tr>\n",
       "      <th>0</th>\n",
       "      <td>1949-01-01</td>\n",
       "      <td>112.0</td>\n",
       "    </tr>\n",
       "    <tr>\n",
       "      <th>1</th>\n",
       "      <td>1949-02-01</td>\n",
       "      <td>118.0</td>\n",
       "    </tr>\n",
       "    <tr>\n",
       "      <th>2</th>\n",
       "      <td>1949-03-01</td>\n",
       "      <td>132.0</td>\n",
       "    </tr>\n",
       "    <tr>\n",
       "      <th>3</th>\n",
       "      <td>1949-04-01</td>\n",
       "      <td>129.0</td>\n",
       "    </tr>\n",
       "    <tr>\n",
       "      <th>4</th>\n",
       "      <td>1949-05-01</td>\n",
       "      <td>121.0</td>\n",
       "    </tr>\n",
       "    <tr>\n",
       "      <th>...</th>\n",
       "      <td>...</td>\n",
       "      <td>...</td>\n",
       "    </tr>\n",
       "    <tr>\n",
       "      <th>139</th>\n",
       "      <td>1960-08-01</td>\n",
       "      <td>606.0</td>\n",
       "    </tr>\n",
       "    <tr>\n",
       "      <th>140</th>\n",
       "      <td>1960-09-01</td>\n",
       "      <td>508.0</td>\n",
       "    </tr>\n",
       "    <tr>\n",
       "      <th>141</th>\n",
       "      <td>1960-10-01</td>\n",
       "      <td>461.0</td>\n",
       "    </tr>\n",
       "    <tr>\n",
       "      <th>142</th>\n",
       "      <td>1960-11-01</td>\n",
       "      <td>390.0</td>\n",
       "    </tr>\n",
       "    <tr>\n",
       "      <th>143</th>\n",
       "      <td>1960-12-01</td>\n",
       "      <td>432.0</td>\n",
       "    </tr>\n",
       "  </tbody>\n",
       "</table>\n",
       "<p>144 rows × 2 columns</p>\n",
       "</div>"
      ],
      "text/plain": [
       "component      Month  #Passengers\n",
       "0         1949-01-01        112.0\n",
       "1         1949-02-01        118.0\n",
       "2         1949-03-01        132.0\n",
       "3         1949-04-01        129.0\n",
       "4         1949-05-01        121.0\n",
       "..               ...          ...\n",
       "139       1960-08-01        606.0\n",
       "140       1960-09-01        508.0\n",
       "141       1960-10-01        461.0\n",
       "142       1960-11-01        390.0\n",
       "143       1960-12-01        432.0\n",
       "\n",
       "[144 rows x 2 columns]"
      ]
     },
     "execution_count": 56,
     "metadata": {},
     "output_type": "execute_result"
    }
   ],
   "source": [
    "df = df.reset_index()\n",
    "df"
   ]
  },
  {
   "cell_type": "code",
   "execution_count": 9,
   "id": "91dacff5",
   "metadata": {},
   "outputs": [
    {
     "data": {
      "image/png": "[encoded data removed]",
      "text/plain": [
       "<Figure size 864x360 with 1 Axes>"
      ]
     },
     "metadata": {
      "needs_background": "light"
     },
     "output_type": "display_data"
    }
   ],
   "source": [
    "plt.figure(100, figsize=(12,5))\n",
    "series.plot()"
   ]
  },
  {
   "cell_type": "code",
   "execution_count": 10,
   "id": "9c4defac",
   "metadata": {},
   "outputs": [
    {
     "name": "stdout",
     "output_type": "stream",
     "text": [
      "is seasonal? : True\n",
      "periodicity (months) : 12.0\n",
      "periodicity (~years) : 1.0\n"
     ]
    }
   ],
   "source": [
    "# analyze its seasonality\n",
    "\n",
    "is_seasonal, periodicity = check_seasonality(ts, max_lag=240)\n",
    "dict_seas ={\n",
    "    \"is seasonal?\":is_seasonal, \n",
    "    \"periodicity (months)\":f'{periodicity:.1f}', \n",
    "    \"periodicity (~years)\": f'{periodicity/12:.1f}'}\n",
    "_ = [print(k,\":\",v) for k,v in dict_seas.items()]"
   ]
  },
  {
   "cell_type": "code",
   "execution_count": 12,
   "id": "6d635064",
   "metadata": {},
   "outputs": [
    {
     "data": {
      "image/png": "[encoded data removed]",
      "text/plain": [
       "<Figure size 720x360 with 1 Axes>"
      ]
     },
     "metadata": {
      "needs_background": "light"
     },
     "output_type": "display_data"
    }
   ],
   "source": [
    "plot_acf(ts, periodicity, max_lag=100)"
   ]
  },
  {
   "cell_type": "code",
   "execution_count": 16,
   "id": "f50c19b4",
   "metadata": {},
   "outputs": [
    {
     "name": "stdout",
     "output_type": "stream",
     "text": [
      "<TimeSeries (DataArray) (Month: 5, component: 1, sample: 1)>\n",
      "array([[[112.]],\n",
      "\n",
      "       [[118.]],\n",
      "\n",
      "       [[132.]],\n",
      "\n",
      "       [[129.]],\n",
      "\n",
      "       [[121.]]])\n",
      "Coordinates:\n",
      "  * Month      (Month) datetime64[ns] 1949-01-01 1949-02-01 ... 1949-05-01\n",
      "  * component  (component) object '#Passengers'\n",
      "Dimensions without coordinates: sample\n",
      "<TimeSeries (DataArray) (Month: 5, component: 1, sample: 1)>\n",
      "array([[[342.]],\n",
      "\n",
      "       [[406.]],\n",
      "\n",
      "       [[396.]],\n",
      "\n",
      "       [[420.]],\n",
      "\n",
      "       [[472.]]])\n",
      "Coordinates:\n",
      "  * Month      (Month) datetime64[ns] 1959-02-01 1959-03-01 ... 1959-06-01\n",
      "  * component  (component) object '#Passengers'\n",
      "Dimensions without coordinates: sample\n"
     ]
    }
   ],
   "source": [
    "# split training vs test dataset\n",
    "train, val = ts.split_after(pd.Timestamp(FC_START))\n",
    "print(train[0:5])\n",
    "print(val[0:5])"
   ]
  },
  {
   "cell_type": "code",
   "execution_count": 21,
   "id": "65cbddb3",
   "metadata": {},
   "outputs": [
    {
     "name": "stdout",
     "output_type": "stream",
     "text": [
      "<TimeSeries (DataArray) (Month: 5, component: 1, sample: 1)>\n",
      "array([[[0.01995012]],\n",
      "\n",
      "       [[0.03491272]],\n",
      "\n",
      "       [[0.06982544]],\n",
      "\n",
      "       [[0.06234414]],\n",
      "\n",
      "       [[0.04239401]]])\n",
      "Coordinates:\n",
      "  * Month      (Month) datetime64[ns] 1949-01-01 1949-02-01 ... 1949-05-01\n",
      "  * component  (component) object '#Passengers'\n",
      "Dimensions without coordinates: sample\n",
      "********* length of training data 121 **************\n",
      "<TimeSeries (DataArray) (Month: 5, component: 1, sample: 1)>\n",
      "array([[[0.59351621]],\n",
      "\n",
      "       [[0.75311721]],\n",
      "\n",
      "       [[0.72817955]],\n",
      "\n",
      "       [[0.78802993]],\n",
      "\n",
      "       [[0.91770574]]])\n",
      "Coordinates:\n",
      "  * Month      (Month) datetime64[ns] 1959-02-01 1959-03-01 ... 1959-06-01\n",
      "  * component  (component) object '#Passengers'\n",
      "Dimensions without coordinates: sample\n",
      "********* length of training data 23 **************\n",
      "<TimeSeries (DataArray) (Month: 5, component: 1, sample: 1)>\n",
      "array([[[0.01995012]],\n",
      "\n",
      "       [[0.03491272]],\n",
      "\n",
      "       [[0.06982544]],\n",
      "\n",
      "       [[0.06234414]],\n",
      "\n",
      "       [[0.04239401]]])\n",
      "Coordinates:\n",
      "  * Month      (Month) datetime64[ns] 1949-01-01 1949-02-01 ... 1949-05-01\n",
      "  * component  (component) object '#Passengers'\n",
      "Dimensions without coordinates: sample\n"
     ]
    }
   ],
   "source": [
    "# normalize the time series\n",
    "\n",
    "trf = Scaler()\n",
    "# fit the transformer to the training dataset\n",
    "train_trf = trf.fit_transform(train)\n",
    "# apply the transformer to the validation set and the complete series \n",
    "val_trf = trf.transform(val)\n",
    "ts_trf = trf.transform(ts)\n",
    "\n",
    "print(train_trf[0:5])\n",
    "print(f'********* length of training data {len(train_trf)} **************')\n",
    "print(val_trf[0:5])\n",
    "print(f'********* length of training data {len(val_trf)} **************')\n",
    "print(ts_trf[0:5])"
   ]
  },
  {
   "cell_type": "code",
   "execution_count": 33,
   "id": "a99d9918",
   "metadata": {},
   "outputs": [
    {
     "name": "stdout",
     "output_type": "stream",
     "text": [
      "<TimeSeries (DataArray) (time: 5, component: 1, sample: 1)>\n",
      "array([[[1949.]],\n",
      "\n",
      "       [[1949.]],\n",
      "\n",
      "       [[1949.]],\n",
      "\n",
      "       [[1949.]],\n",
      "\n",
      "       [[1949.]]])\n",
      "Coordinates:\n",
      "  * time       (time) datetime64[ns] 1949-01-01 1949-02-01 ... 1949-05-01\n",
      "  * component  (component) object 'year'\n",
      "Dimensions without coordinates: sample\n",
      "<TimeSeries (DataArray) (time: 1, component: 12, sample: 1)>\n",
      "array([[[1.],\n",
      "        [0.],\n",
      "        [0.],\n",
      "        [0.],\n",
      "        [0.],\n",
      "        [0.],\n",
      "        [0.],\n",
      "        [0.],\n",
      "        [0.],\n",
      "        [0.],\n",
      "        [0.],\n",
      "        [0.]]])\n",
      "Coordinates:\n",
      "  * time       (time) datetime64[ns] 1949-01-01\n",
      "  * component  (component) object 'month_1' 'month_2' ... 'month_11' 'month_12'\n",
      "Dimensions without coordinates: sample\n",
      "component   year  month_1  month_2  month_3  month_4  month_5  month_6  \\\n",
      "time                                                                     \n",
      "1949-01-01   0.0      1.0      0.0      0.0      0.0      0.0      0.0   \n",
      "1949-02-01   0.0      0.0      1.0      0.0      0.0      0.0      0.0   \n",
      "1949-03-01   0.0      0.0      0.0      1.0      0.0      0.0      0.0   \n",
      "1949-04-01   0.0      0.0      0.0      0.0      1.0      0.0      0.0   \n",
      "1949-05-01   0.0      0.0      0.0      0.0      0.0      1.0      0.0   \n",
      "\n",
      "component   month_7  month_8  month_9  month_10  month_11  month_12  \n",
      "time                                                                 \n",
      "1949-01-01      0.0      0.0      0.0       0.0       0.0       0.0  \n",
      "1949-02-01      0.0      0.0      0.0       0.0       0.0       0.0  \n",
      "1949-03-01      0.0      0.0      0.0       0.0       0.0       0.0  \n",
      "1949-04-01      0.0      0.0      0.0       0.0       0.0       0.0  \n",
      "1949-05-01      0.0      0.0      0.0       0.0       0.0       0.0  \n"
     ]
    }
   ],
   "source": [
    "# create month and year covariate series\n",
    "\n",
    "year_series = datetime_attribute_timeseries(\n",
    "    pd.date_range(start=series.start_time(), \n",
    "        freq=ts.freq_str, \n",
    "        periods=1000),\n",
    "    attribute='year', \n",
    "    one_hot=False)\n",
    "print(year_series[0:5])\n",
    "\n",
    "year_series = Scaler().fit_transform(year_series)\n",
    "\n",
    "month_series = datetime_attribute_timeseries(\n",
    "    year_series, \n",
    "    attribute='month', \n",
    "    one_hot=True)\n",
    "print(month_series[0])\n",
    "\n",
    "covariates = year_series.stack(month_series)\n",
    "cov_train, cov_val = covariates.split_after(pd.Timestamp(FC_START))\n",
    "print(cov_train[0:5].pd_dataframe())"
   ]
  },
  {
   "cell_type": "code",
   "execution_count": 38,
   "id": "3ca7cc18",
   "metadata": {},
   "outputs": [
    {
     "name": "stdout",
     "output_type": "stream",
     "text": [
      "\n",
      "beginning the training of the RNN RNN:\n"
     ]
    },
    {
     "data": {
      "application/vnd.jupyter.widget-view+json": {
       "model_id": "",
       "version_major": 2,
       "version_minor": 0
      },
      "text/plain": [
       "Sanity Checking: 0it [00:00, ?it/s]"
      ]
     },
     "metadata": {},
     "output_type": "display_data"
    },
    {
     "data": {
      "application/vnd.jupyter.widget-view+json": {
       "model_id": "20d25fd6fa40446987f4f1eb9a2311a9",
       "version_major": 2,
       "version_minor": 0
      },
      "text/plain": [
       "Training: 0it [00:00, ?it/s]"
      ]
     },
     "metadata": {},
     "output_type": "display_data"
    },
    {
     "data": {
      "application/vnd.jupyter.widget-view+json": {
       "model_id": "",
       "version_major": 2,
       "version_minor": 0
      },
      "text/plain": [
       "Validation: 0it [00:00, ?it/s]"
      ]
     },
     "metadata": {},
     "output_type": "display_data"
    },
    {
     "data": {
      "application/vnd.jupyter.widget-view+json": {
       "model_id": "",
       "version_major": 2,
       "version_minor": 0
      },
      "text/plain": [
       "Validation: 0it [00:00, ?it/s]"
      ]
     },
     "metadata": {},
     "output_type": "display_data"
    },
    {
     "data": {
      "application/vnd.jupyter.widget-view+json": {
       "model_id": "",
       "version_major": 2,
       "version_minor": 0
      },
      "text/plain": [
       "Validation: 0it [00:00, ?it/s]"
      ]
     },
     "metadata": {},
     "output_type": "display_data"
    },
    {
     "data": {
      "application/vnd.jupyter.widget-view+json": {
       "model_id": "",
       "version_major": 2,
       "version_minor": 0
      },
      "text/plain": [
       "Validation: 0it [00:00, ?it/s]"
      ]
     },
     "metadata": {},
     "output_type": "display_data"
    },
    {
     "data": {
      "application/vnd.jupyter.widget-view+json": {
       "model_id": "",
       "version_major": 2,
       "version_minor": 0
      },
      "text/plain": [
       "Validation: 0it [00:00, ?it/s]"
      ]
     },
     "metadata": {},
     "output_type": "display_data"
    },
    {
     "data": {
      "application/vnd.jupyter.widget-view+json": {
       "model_id": "",
       "version_major": 2,
       "version_minor": 0
      },
      "text/plain": [
       "Validation: 0it [00:00, ?it/s]"
      ]
     },
     "metadata": {},
     "output_type": "display_data"
    },
    {
     "data": {
      "application/vnd.jupyter.widget-view+json": {
       "model_id": "",
       "version_major": 2,
       "version_minor": 0
      },
      "text/plain": [
       "Validation: 0it [00:00, ?it/s]"
      ]
     },
     "metadata": {},
     "output_type": "display_data"
    },
    {
     "data": {
      "application/vnd.jupyter.widget-view+json": {
       "model_id": "",
       "version_major": 2,
       "version_minor": 0
      },
      "text/plain": [
       "Validation: 0it [00:00, ?it/s]"
      ]
     },
     "metadata": {},
     "output_type": "display_data"
    },
    {
     "data": {
      "application/vnd.jupyter.widget-view+json": {
       "model_id": "",
       "version_major": 2,
       "version_minor": 0
      },
      "text/plain": [
       "Validation: 0it [00:00, ?it/s]"
      ]
     },
     "metadata": {},
     "output_type": "display_data"
    },
    {
     "data": {
      "application/vnd.jupyter.widget-view+json": {
       "model_id": "",
       "version_major": 2,
       "version_minor": 0
      },
      "text/plain": [
       "Validation: 0it [00:00, ?it/s]"
      ]
     },
     "metadata": {},
     "output_type": "display_data"
    },
    {
     "name": "stdout",
     "output_type": "stream",
     "text": [
      "training of the RNN RNN has completed: 18.80 sec\n"
     ]
    }
   ],
   "source": [
    "\"\"\"\n",
    "Model Training\n",
    "\"\"\"\n",
    "\n",
    "flavor = 'RNN'\n",
    "model_RNN = RNNModel(\n",
    "        model=flavor,\n",
    "        model_name=flavor + str(\" RNN\"),\n",
    "        input_chunk_length=periodicity,\n",
    "        training_length=20,\n",
    "        hidden_dim=20,\n",
    "        batch_size=16,\n",
    "        n_epochs=EPOCH,\n",
    "        dropout=0,\n",
    "        optimizer_kwargs={'lr': 1e-3},\n",
    "        log_tensorboard=True,\n",
    "        random_state=42,\n",
    "        force_reset=True)\n",
    "\n",
    "t_start =  time.perf_counter()\n",
    "print(\"\\nbeginning the training of the {0} RNN:\".format(flavor))\n",
    "\n",
    "res = model_RNN.fit(train_trf,\n",
    "                    future_covariates=cov_train,\n",
    "                    val_series=val_trf,\n",
    "                    val_future_covariates=cov_val,\n",
    "                    verbose=True)\n",
    "\n",
    "res_time = time.perf_counter() - t_start\n",
    "print(\"training of the {0} RNN has completed:\".format(flavor), f'{res_time:.2f} sec')"
   ]
  },
  {
   "cell_type": "code",
   "execution_count": 59,
   "id": "65d493fc",
   "metadata": {},
   "outputs": [
    {
     "data": {
      "application/vnd.jupyter.widget-view+json": {
       "model_id": "c2fdf32cf5514d87ac971de1fa1ad844",
       "version_major": 2,
       "version_minor": 0
      },
      "text/plain": [
       "Predicting: 7it [00:00, ?it/s]"
      ]
     },
     "metadata": {},
     "output_type": "display_data"
    },
    {
     "data": {
      "text/html": [
       "<div>\n",
       "<style scoped>\n",
       "    .dataframe tbody tr th:only-of-type {\n",
       "        vertical-align: middle;\n",
       "    }\n",
       "\n",
       "    .dataframe tbody tr th {\n",
       "        vertical-align: top;\n",
       "    }\n",
       "\n",
       "    .dataframe thead th {\n",
       "        text-align: right;\n",
       "    }\n",
       "</style>\n",
       "<table border=\"1\" class=\"dataframe\">\n",
       "  <thead>\n",
       "    <tr style=\"text-align: right;\">\n",
       "      <th>component</th>\n",
       "      <th>#Passengers</th>\n",
       "    </tr>\n",
       "    <tr>\n",
       "      <th>Month</th>\n",
       "      <th></th>\n",
       "    </tr>\n",
       "  </thead>\n",
       "  <tbody>\n",
       "    <tr>\n",
       "      <th>1959-02-01</th>\n",
       "      <td>0.377860</td>\n",
       "    </tr>\n",
       "    <tr>\n",
       "      <th>1959-03-01</th>\n",
       "      <td>0.430595</td>\n",
       "    </tr>\n",
       "    <tr>\n",
       "      <th>1959-04-01</th>\n",
       "      <td>0.407298</td>\n",
       "    </tr>\n",
       "  </tbody>\n",
       "</table>\n",
       "</div>"
      ],
      "text/plain": [
       "component   #Passengers\n",
       "Month                  \n",
       "1959-02-01     0.377860\n",
       "1959-03-01     0.430595\n",
       "1959-04-01     0.407298"
      ]
     },
     "execution_count": 59,
     "metadata": {},
     "output_type": "execute_result"
    }
   ],
   "source": [
    "\"\"\"\n",
    "Prediction on Sample\n",
    "\"\"\"\n",
    "\n",
    "# sample = covariates[0:12]\n",
    "# print(sample.pd_dataframe())\n",
    "pred = model_RNN.predict(n=3, future_covariates=covariates)\n",
    "pred.pd_dataframe()"
   ]
  }
 ],
 "metadata": {
  "kernelspec": {
   "display_name": "Python 3",
   "language": "python",
   "name": "python3"
  },
  "language_info": {
   "codemirror_mode": {
    "name": "ipython",
    "version": 3
   },
   "file_extension": ".py",
   "mimetype": "text/x-python",
   "name": "python",
   "nbconvert_exporter": "python",
   "pygments_lexer": "ipython3",
   "version": "3.8.8"
  }
 },
 "nbformat": 4,
 "nbformat_minor": 5
}
